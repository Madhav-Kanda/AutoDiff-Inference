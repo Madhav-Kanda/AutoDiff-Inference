{
  "cells": [
    {
      "cell_type": "code",
      "execution_count": 58,
      "metadata": {
        "id": "sXtaNhWEeaVx"
      },
      "outputs": [],
      "source": [
        "import jax\n",
        "import jax.numpy as jnp\n",
        "import scipy\n",
        "from sklearn.datasets import make_classification\n",
        "import numpy as np\n",
        "from tqdm import trange\n",
        "try:\n",
        "  import optax\n",
        "except ModuleNotFoundError:\n",
        "  %pip install -q optax\n",
        "  import optax\n",
        "try:\n",
        "  import tensorflow_probability.substrates.jax as tfp\n",
        "except ModuleNotFoundError:\n",
        "  %pip install -q tensorflow-probability\n",
        "  import tensorflow_probability.substrates.jax as tfp\n",
        "tfd=tfp.distributions\n",
        "import seaborn as sns\n",
        "import matplotlib.pyplot as plt"
      ]
    },
    {
      "attachments": {},
      "cell_type": "markdown",
      "metadata": {},
      "source": [
        "### **Data creation**"
      ]
    },
    {
      "cell_type": "code",
      "execution_count": 59,
      "metadata": {
        "id": "wvN05MHl9jrD"
      },
      "outputs": [],
      "source": [
        "num_samples= 50\n",
        "num_features = 4\n",
        "x, y = make_classification(\n",
        "    n_features = num_features, n_redundant=0, n_informative=2, random_state=1, n_clusters_per_class=1,n_samples=num_samples\n",
        ")\n",
        "rng = np.random.RandomState(2)\n",
        "x += 2 * rng.uniform(size=x.shape)"
      ]
    },
    {
      "cell_type": "code",
      "execution_count": 78,
      "metadata": {},
      "outputs": [
        {
          "data": {
            "text/plain": [
              "(50, 5)"
            ]
          },
          "execution_count": 78,
          "metadata": {},
          "output_type": "execute_result"
        }
      ],
      "source": [
        "X.shape"
      ]
    },
    {
      "cell_type": "code",
      "execution_count": 60,
      "metadata": {},
      "outputs": [],
      "source": [
        "def low_rank_approximation(X, M):\n",
        "    if X.shape[0] == M or X.shape[1] == M:\n",
        "        _, _, UT = jnp.linalg.svd(X, full_matrices=False) # U is shape [N, M=D]\n",
        "        U = UT.T\n",
        "    else:\n",
        "        _,_,UT = scipy.sparse.linalg.svds(X, k=M)\n",
        "        U = UT.T\n",
        "    XU = X @ U\n",
        "    return XU, U"
      ]
    },
    {
      "cell_type": "code",
      "execution_count": 61,
      "metadata": {
        "id": "xQK54OMn95Vl"
      },
      "outputs": [
        {
          "data": {
            "text/plain": [
              "((50, 5), (50,))"
            ]
          },
          "execution_count": 61,
          "metadata": {},
          "output_type": "execute_result"
        }
      ],
      "source": [
        "def identity_trans(x):\n",
        "    return jnp.append(jnp.ones((num_samples,1)),x,axis=1)\n",
        "\n",
        "X=jnp.array(identity_trans(x))\n",
        "X.shape,y.shape"
      ]
    },
    {
      "attachments": {},
      "cell_type": "markdown",
      "metadata": {
        "id": "WjwJW48zeDaw"
      },
      "source": [
        "### **Low Rank Approximation (M = 4)**"
      ]
    },
    {
      "cell_type": "code",
      "execution_count": 62,
      "metadata": {
        "id": "OraNVsam-RFR"
      },
      "outputs": [
        {
          "data": {
            "text/plain": [
              "((50, 4), (5, 4), (4, 5))"
            ]
          },
          "execution_count": 62,
          "metadata": {},
          "output_type": "execute_result"
        }
      ],
      "source": [
        "M = 4\n",
        "\n",
        "sigma_beta=jnp.ones(num_features+1)\n",
        "\n",
        "XU,U=low_rank_approximation(X,M)\n",
        "XU.shape, U.shape, (U.T).shape"
      ]
    },
    {
      "cell_type": "code",
      "execution_count": 63,
      "metadata": {
        "id": "HeFEarvmAmx2"
      },
      "outputs": [
        {
          "data": {
            "text/plain": [
              "(DeviceArray([[ 1.0000001e+00, -7.6207783e-08, -6.0430580e-08,\n",
              "               -5.5263698e-08],\n",
              "              [-7.6207783e-08,  9.9999994e-01,  7.0483974e-09,\n",
              "                5.7910928e-08],\n",
              "              [-6.0430580e-08,  7.0483974e-09,  9.9999988e-01,\n",
              "                1.0441035e-09],\n",
              "              [-5.5263698e-08,  5.7910928e-08,  1.0441035e-09,\n",
              "                1.0000002e+00]], dtype=float32),\n",
              " (4, 4))"
            ]
          },
          "execution_count": 63,
          "metadata": {},
          "output_type": "execute_result"
        }
      ],
      "source": [
        "p_cov = (U.T)@(sigma_beta[:,None]*U)\n",
        "p_cov,  p_cov.shape"
      ]
    },
    {
      "cell_type": "code",
      "execution_count": 64,
      "metadata": {
        "id": "j5dMrMB9-Tfo"
      },
      "outputs": [],
      "source": [
        "def neg_logjoint(UT_bmap, XU,y):\n",
        "    l = tfd.Bernoulli(probs=jax.nn.sigmoid(XU @ UT_bmap))\n",
        "    p=tfd.MultivariateNormalFullCovariance(loc=jnp.zeros(M), covariance_matrix=p_cov)\n",
        "    return -(l.log_prob(y).sum()+p.log_prob(UT_bmap))"
      ]
    },
    {
      "cell_type": "code",
      "execution_count": 65,
      "metadata": {
        "colab": {
          "base_uri": "https://localhost:8080/"
        },
        "id": "HPiYUF6c-pa4",
        "outputId": "1ce91bc3-0a6b-453d-d1ab-fe868cce918b"
      },
      "outputs": [
        {
          "name": "stderr",
          "output_type": "stream",
          "text": [
            "100%|█████████████████████████████████████████████████████████████████████████████████████████████████████████████████████| 1000/1000 [00:21<00:00, 47.58it/s]\n"
          ]
        },
        {
          "data": {
            "text/plain": [
              "DeviceArray([0.96619713, 0.4377509 , 1.7501996 , 0.356645  ], dtype=float32)"
            ]
          },
          "execution_count": 65,
          "metadata": {},
          "output_type": "execute_result"
        }
      ],
      "source": [
        "gradient=jax.value_and_grad(jax.jit(neg_logjoint))\n",
        "seed=jax.random.PRNGKey(0)\n",
        "UT_bmap = jax.random.uniform(shape=(M,), key=seed)\n",
        "lr=0.01\n",
        "optimizer = optax.adam(learning_rate=lr)\n",
        "state = optimizer.init(UT_bmap)\n",
        "losses = []\n",
        "max_iter=1000\n",
        "for _ in trange(max_iter):\n",
        "    val, grad = gradient(UT_bmap, XU,y)\n",
        "    losses.append(val)\n",
        "    update, state = optimizer.update(grad, state)\n",
        "    UT_bmap = optax.apply_updates(UT_bmap, update)\n",
        "loss=losses\n",
        "UT_bmap"
      ]
    },
    {
      "cell_type": "code",
      "execution_count": 66,
      "metadata": {
        "colab": {
          "base_uri": "https://localhost:8080/"
        },
        "id": "SKzKJ6lNvy96",
        "outputId": "fba722b5-59a3-4245-a461-7899881c6b34"
      },
      "outputs": [
        {
          "data": {
            "text/plain": [
              "DeviceArray([ 0.2875426 ,  0.51217115,  0.06244337,  0.12543465,\n",
              "             -1.987693  ], dtype=float32)"
            ]
          },
          "execution_count": 66,
          "metadata": {},
          "output_type": "execute_result"
        }
      ],
      "source": [
        "mu_n=U@UT_bmap\n",
        "mu_n"
      ]
    },
    {
      "cell_type": "code",
      "execution_count": 67,
      "metadata": {
        "id": "dvhniv70FVLr"
      },
      "outputs": [],
      "source": [
        "def logjoint(UT_bmap, XU,y):\n",
        "    l = tfd.Bernoulli(probs=jax.nn.sigmoid(XU @ UT_bmap))\n",
        "    p=tfd.MultivariateNormalFullCovariance(loc=jnp.zeros(M), covariance_matrix=jnp.identity(M))\n",
        "    return (l.log_prob(y).sum())"
      ]
    },
    {
      "cell_type": "markdown",
      "metadata": {
        "id": "YuhRq_FL-Nsw"
      },
      "source": [
        "![image.png](data:image/png;base64,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)"
      ]
    },
    {
      "cell_type": "code",
      "execution_count": 68,
      "metadata": {
        "id": "PkP5zkPTwHGC"
      },
      "outputs": [
        {
          "data": {
            "text/plain": [
              "(4, 4)"
            ]
          },
          "execution_count": 68,
          "metadata": {},
          "output_type": "execute_result"
        }
      ],
      "source": [
        "H=jax.hessian(logjoint)(UT_bmap,XU,y)\n",
        "H_inverse=jnp.linalg.inv(H)\n",
        "\n",
        "H_inverse.shape"
      ]
    },
    {
      "cell_type": "code",
      "execution_count": 69,
      "metadata": {
        "id": "p85Mt93kx5P5"
      },
      "outputs": [
        {
          "data": {
            "text/plain": [
              "(4, 4)"
            ]
          },
          "execution_count": 69,
          "metadata": {},
          "output_type": "execute_result"
        }
      ],
      "source": [
        "W_inverse=(U.T)@(sigma_beta[:,None]*U)-H_inverse\n",
        "\n",
        "W=jnp.linalg.inv(W_inverse)\n",
        "W.shape"
      ]
    },
    {
      "cell_type": "code",
      "execution_count": 70,
      "metadata": {
        "id": "aefN7g6_zAeA"
      },
      "outputs": [
        {
          "data": {
            "text/plain": [
              "(5, 5)"
            ]
          },
          "execution_count": 70,
          "metadata": {},
          "output_type": "execute_result"
        }
      ],
      "source": [
        "sigma_n=jnp.diag(sigma_beta)-(sigma_beta[:,None]*U)@W@((U.T)*sigma_beta[None])\n",
        "sigma_n.shape"
      ]
    },
    {
      "cell_type": "code",
      "execution_count": 71,
      "metadata": {
        "id": "5sOIjt_mzem9"
      },
      "outputs": [
        {
          "data": {
            "text/plain": [
              "(1000, 5)"
            ]
          },
          "execution_count": 71,
          "metadata": {},
          "output_type": "execute_result"
        }
      ],
      "source": [
        "laplace_approx_lr = tfd.MultivariateNormalFullCovariance(loc=mu_n, covariance_matrix=sigma_n)\n",
        "samples_lr = laplace_approx_lr.sample(sample_shape=(1000,), seed=jax.random.PRNGKey(0))\n",
        "\n",
        "samples_lr.shape"
      ]
    },
    {
      "cell_type": "markdown",
      "metadata": {
        "id": "fSxdLgMKd9ZQ"
      },
      "source": [
        "### **Normal Laplace Approximation**"
      ]
    },
    {
      "cell_type": "code",
      "execution_count": 72,
      "metadata": {
        "id": "e69-hvFU5Dve"
      },
      "outputs": [],
      "source": [
        "def neg_logjoint_normal(beta, X,y):\n",
        "    l = tfd.Bernoulli(probs=jax.nn.sigmoid(X @ beta))\n",
        "    p=tfd.MultivariateNormalFullCovariance(loc=jnp.zeros(num_features+1), covariance_matrix=jnp.identity(num_features+1))\n",
        "    return -(l.log_prob(y).sum()+p.log_prob(beta))"
      ]
    },
    {
      "cell_type": "code",
      "execution_count": 73,
      "metadata": {
        "colab": {
          "base_uri": "https://localhost:8080/"
        },
        "id": "TxoP_55z4_Fj",
        "outputId": "9650e117-f005-4c54-82d9-6d6607cf9811"
      },
      "outputs": [
        {
          "name": "stderr",
          "output_type": "stream",
          "text": [
            "100%|█████████████████████████████████████████████████████████████████████████████████████████████████████████████████████| 1000/1000 [00:23<00:00, 42.96it/s]\n"
          ]
        },
        {
          "data": {
            "text/plain": [
              "DeviceArray([ 0.31051508,  0.47043958,  0.06472641,  0.11497987,\n",
              "             -1.8888317 ], dtype=float32)"
            ]
          },
          "execution_count": 73,
          "metadata": {},
          "output_type": "execute_result"
        }
      ],
      "source": [
        "gradient=jax.value_and_grad(jax.jit(neg_logjoint_normal))\n",
        "seed=jax.random.PRNGKey(0)\n",
        "theta_map = jax.random.uniform(shape=(num_features+1,), key=seed)\n",
        "lr=0.01\n",
        "optimizer = optax.adam(learning_rate=lr)\n",
        "state = optimizer.init(theta_map)\n",
        "losses = []\n",
        "max_iter=1000\n",
        "for _ in trange(max_iter):\n",
        "    val, grad = gradient(theta_map, X,y)\n",
        "    losses.append(val)\n",
        "    update, state = optimizer.update(grad, state)\n",
        "    theta_map = optax.apply_updates(theta_map, update)\n",
        "loss=losses\n",
        "theta_map"
      ]
    },
    {
      "cell_type": "code",
      "execution_count": 74,
      "metadata": {
        "colab": {
          "base_uri": "https://localhost:8080/"
        },
        "id": "oPkQzf_J5KXo",
        "outputId": "4a521479-1a6d-4f4c-ee6b-ce3063e73265"
      },
      "outputs": [
        {
          "data": {
            "text/plain": [
              "(5, 5)"
            ]
          },
          "execution_count": 74,
          "metadata": {},
          "output_type": "execute_result"
        }
      ],
      "source": [
        "hessian=jax.hessian(neg_logjoint_normal)(theta_map,X,y)\n",
        "\n",
        "cov = jnp.linalg.inv(hessian)\n",
        "cov.shape"
      ]
    },
    {
      "cell_type": "code",
      "execution_count": 75,
      "metadata": {
        "id": "fbGV_L6r5OAA"
      },
      "outputs": [],
      "source": [
        "laplace_approx=tfd.MultivariateNormalFullCovariance(loc=theta_map, covariance_matrix=cov)\n",
        "samples_normal = laplace_approx.sample(sample_shape=(1000,), seed=jax.random.PRNGKey(0))"
      ]
    },
    {
      "cell_type": "markdown",
      "metadata": {
        "id": "SovaGbvagBTt"
      },
      "source": [
        "### **Plot for comparison**"
      ]
    },
    {
      "cell_type": "code",
      "execution_count": 76,
      "metadata": {
        "colab": {
          "base_uri": "https://localhost:8080/",
          "height": 316
        },
        "id": "md1djFlr4hPl",
        "outputId": "42c3564a-92c3-424e-ad8f-86aeed92dfdb"
      },
      "outputs": [
        {
          "data": {
            "text/plain": [
              "<matplotlib.legend.Legend at 0x7fdd584f6790>"
            ]
          },
          "execution_count": 76,
          "metadata": {},
          "output_type": "execute_result"
        },
        {
          "data": {
            "image/png": "[encoded data removed]",
            "text/plain": [
              "<Figure size 432x288 with 1 Axes>"
            ]
          },
          "metadata": {
            "needs_background": "light"
          },
          "output_type": "display_data"
        }
      ],
      "source": [
        "s = {r'$\\theta_1$': samples_lr[:, 1], r'$\\theta_2$': samples_lr[:, 2]}\n",
        "ax = sns.kdeplot(data=s, x=r'$\\theta_1$', y=r'$\\theta_2$', label=\"Low rank approximation (M=4)\",bw_adjust=4)\n",
        "\n",
        "s1 = {r'$\\theta_1$': samples_normal[:, 1], r'$\\theta_2$': samples_normal[:, 2]}\n",
        "ax = sns.kdeplot(data=s1, x=r'$\\theta_1$', y=r'$\\theta_2$', label=\"Normal\",bw_adjust=4,color=\"black\")\n",
        "\n",
        "ax.set_title(\"Normal V/S Low Rank Approximation\")\n",
        "ax.set_aspect(\"equal\")\n",
        "plt.legend()"
      ]
    }
  ],
  "metadata": {
    "colab": {
      "provenance": []
    },
    "kernelspec": {
      "display_name": "Python 3 (ipykernel)",
      "language": "python",
      "name": "python3"
    },
    "language_info": {
      "codemirror_mode": {
        "name": "ipython",
        "version": 3
      },
      "file_extension": ".py",
      "mimetype": "text/x-python",
      "name": "python",
      "nbconvert_exporter": "python",
      "pygments_lexer": "ipython3",
      "version": "3.8.10"
    }
  },
  "nbformat": 4,
  "nbformat_minor": 0
}
